{
 "cells": [
  {
   "cell_type": "markdown",
   "metadata": {},
   "source": [
    "# pyJASPAR Notebook"
   ]
  },
  {
   "cell_type": "markdown",
   "metadata": {},
   "source": [
    "Once you have installed pyJASPAR, you can load the module and connect to the latest release of JASPAR."
   ]
  },
  {
   "cell_type": "code",
   "execution_count": 78,
   "metadata": {},
   "outputs": [],
   "source": [
    "from pyjaspar import jaspardb"
   ]
  },
  {
   "cell_type": "markdown",
   "metadata": {},
   "source": [
    "Connect to the version of JASPAR you're interested in. This will return jaspardb class object.\n",
    "For example here we're getting the JASPAR2020."
   ]
  },
  {
   "cell_type": "code",
   "execution_count": 54,
   "metadata": {},
   "outputs": [],
   "source": [
    "jdb_obj = jaspardb(release='JASPAR2020')"
   ]
  },
  {
   "cell_type": "markdown",
   "metadata": {},
   "source": [
    "You can also check JASPAR version you are connected to using:"
   ]
  },
  {
   "cell_type": "code",
   "execution_count": 55,
   "metadata": {
    "scrolled": true
   },
   "outputs": [
    {
     "name": "stdout",
     "output_type": "stream",
     "text": [
      "JASPAR2020\n"
     ]
    }
   ],
   "source": [
    "print(jdb_obj.release)"
   ]
  },
  {
   "cell_type": "markdown",
   "metadata": {},
   "source": [
    "By default it is set to latest release/version of JASPAR database. For example."
   ]
  },
  {
   "cell_type": "code",
   "execution_count": 71,
   "metadata": {},
   "outputs": [
    {
     "name": "stdout",
     "output_type": "stream",
     "text": [
      "JASPAR2022\n"
     ]
    }
   ],
   "source": [
    "jdb_obj = jaspardb()\n",
    "print(jdb_obj.release)"
   ]
  },
  {
   "cell_type": "markdown",
   "metadata": {},
   "source": [
    "### Get available releases\n",
    "You can find the available releases/version of JASPAR using."
   ]
  },
  {
   "cell_type": "code",
   "execution_count": 56,
   "metadata": {},
   "outputs": [
    {
     "name": "stdout",
     "output_type": "stream",
     "text": [
      "['JASPAR2022', 'JASPAR2020', 'JASPAR2018', 'JASPAR2016', 'JASPAR2014']\n"
     ]
    }
   ],
   "source": [
    "print(jdb_obj.get_releases())"
   ]
  },
  {
   "cell_type": "markdown",
   "metadata": {},
   "source": [
    "### Get motif by using JASPAR ID\n",
    "If you want to get the motif details for a specific TF using the JASPAR ID. If you skip the version of motif, it will return the latest version. "
   ]
  },
  {
   "cell_type": "code",
   "execution_count": 57,
   "metadata": {},
   "outputs": [],
   "source": [
    "motif = jdb_obj.fetch_motif_by_id('MA0006.1')"
   ]
  },
  {
   "cell_type": "markdown",
   "metadata": {},
   "source": [
    "Printing the motif will all the associated meta-information stored in the JASPAR database cluding the matric counts."
   ]
  },
  {
   "cell_type": "code",
   "execution_count": 58,
   "metadata": {},
   "outputs": [
    {
     "name": "stdout",
     "output_type": "stream",
     "text": [
      "TF name\tAhr::Arnt\n",
      "Matrix ID\tMA0006.1\n",
      "Collection\tCORE\n",
      "TF class\t['Basic helix-loop-helix factors (bHLH)', 'Basic helix-loop-helix factors (bHLH)']\n",
      "TF family\t['PAS domain factors', 'PAS domain factors']\n",
      "Species\t10090\n",
      "Taxonomic group\tvertebrates\n",
      "Accession\t['P30561', 'P53762']\n",
      "Data type used\tSELEX\n",
      "Medline\t7592839\n",
      "Comments\tdimer\n",
      "Matrix:\n",
      "        0      1      2      3      4      5\n",
      "A:   3.00   0.00   0.00   0.00   0.00   0.00\n",
      "C:   8.00   0.00  23.00   0.00   0.00   0.00\n",
      "G:   2.00  23.00   0.00  23.00   0.00  24.00\n",
      "T:  11.00   1.00   1.00   1.00  24.00   0.00\n",
      "\n",
      "\n",
      "\n"
     ]
    }
   ],
   "source": [
    "print(motif)"
   ]
  },
  {
   "cell_type": "markdown",
   "metadata": {},
   "source": [
    "Get the count matrix using `.counts`"
   ]
  },
  {
   "cell_type": "code",
   "execution_count": 59,
   "metadata": {
    "scrolled": true
   },
   "outputs": [
    {
     "name": "stdout",
     "output_type": "stream",
     "text": [
      "[3.0, 0.0, 0.0, 0.0, 0.0, 0.0]\n"
     ]
    }
   ],
   "source": [
    "print(motif.counts['A'])"
   ]
  },
  {
   "cell_type": "markdown",
   "metadata": {},
   "source": [
    "### Search motifs by TF name\n",
    "You can use the `fetch_motifs_by_name` function to find motifs by TF name. This method returns a list of motifs for the same TF name across taxonomic group. For example, below search will return two CTCF motifs one in vertebrates and another in plants taxon."
   ]
  },
  {
   "cell_type": "code",
   "execution_count": 60,
   "metadata": {},
   "outputs": [],
   "source": [
    "motifs = jdb_obj.fetch_motifs_by_name(\"CTCF\")"
   ]
  },
  {
   "cell_type": "code",
   "execution_count": 61,
   "metadata": {},
   "outputs": [
    {
     "name": "stdout",
     "output_type": "stream",
     "text": [
      "2\n"
     ]
    }
   ],
   "source": [
    "print(len(motifs))"
   ]
  },
  {
   "cell_type": "code",
   "execution_count": 62,
   "metadata": {},
   "outputs": [
    {
     "name": "stdout",
     "output_type": "stream",
     "text": [
      "TF name\tCTCF\n",
      "Matrix ID\tMA0139.1\n",
      "Collection\tCORE\n",
      "TF class\t['C2H2 zinc finger factors']\n",
      "TF family\t['More than 3 adjacent zinc finger factors']\n",
      "Species\t9606\n",
      "Taxonomic group\tvertebrates\n",
      "Accession\t['P49711']\n",
      "Data type used\tChIP-seq\n",
      "Medline\t17512414\n",
      "Matrix:\n",
      "        0      1      2      3      4      5      6      7      8      9     10     11     12     13     14     15     16     17     18\n",
      "A:  87.00 167.00 281.00  56.00   8.00 744.00  40.00 107.00 851.00   5.00 333.00  54.00  12.00  56.00 104.00 372.00  82.00 117.00 402.00\n",
      "C: 291.00 145.00  49.00 800.00 903.00  13.00 528.00 433.00  11.00   0.00   3.00  12.00   0.00   8.00 733.00  13.00 482.00 322.00 181.00\n",
      "G:  76.00 414.00 449.00  21.00   0.00  65.00 334.00  48.00  32.00 903.00 566.00 504.00 890.00 775.00   5.00 507.00 307.00  73.00 266.00\n",
      "T: 459.00 187.00 134.00  36.00   2.00  91.00  11.00 324.00  18.00   3.00   9.00 341.00   8.00  71.00  67.00  17.00  37.00 396.00  59.00\n",
      "\n",
      "\n",
      "\n",
      "TF name\tCTCF\n",
      "Matrix ID\tMA0531.1\n",
      "Collection\tCORE\n",
      "TF class\t['C2H2 zinc finger factors']\n",
      "TF family\t['More than 3 adjacent zinc finger factors']\n",
      "Species\t7227\n",
      "Taxonomic group\tinsects\n",
      "Accession\t['Q9VS55']\n",
      "Data type used\tChIP-chip\n",
      "Medline\t17616980\n",
      "Matrix:\n",
      "        0      1      2      3      4      5      6      7      8      9     10     11     12     13     14\n",
      "A: 306.00 313.00 457.00 676.00 257.00 1534.00 202.00 987.00   2.00   0.00   2.00 124.00   1.00  79.00 231.00\n",
      "C: 876.00 1147.00 383.00 784.00 714.00   1.00   0.00   0.00   4.00   0.00   0.00 1645.00   0.00 1514.00 773.00\n",
      "G: 403.00 219.00 826.00 350.00  87.00 192.00 1700.00 912.00 311.00 1902.00 1652.00   3.00 1807.00   8.00 144.00\n",
      "T: 317.00 223.00 236.00  92.00 844.00 175.00   0.00   3.00 1585.00   0.00 248.00 130.00  94.00 301.00 754.00\n",
      "\n",
      "\n",
      "\n"
     ]
    }
   ],
   "source": [
    "print(motifs)"
   ]
  },
  {
   "cell_type": "markdown",
   "metadata": {},
   "source": [
    "### Search motifs with \n",
    "A more commonly used function is `fetch_motifs` helps you to get motifs which match a specified set of criteria.\n",
    "You can query the database based on the available meta-information in the database.\n",
    "\n",
    "For example, here we are gettting the widely used CORE collection for vertebrates. It returns a list of non-redundent motifs. "
   ]
  },
  {
   "cell_type": "code",
   "execution_count": 76,
   "metadata": {},
   "outputs": [],
   "source": [
    "motifs = jdb_obj.fetch_motifs(\n",
    "collection = ['CORE'],\n",
    "#tax_group = ['Vertebrates','PLantTs'],\n",
    "#data_type = [\"Chip-seq\"]\n",
    ")"
   ]
  },
  {
   "cell_type": "code",
   "execution_count": 77,
   "metadata": {},
   "outputs": [
    {
     "name": "stdout",
     "output_type": "stream",
     "text": [
      "1915\n"
     ]
    }
   ],
   "source": [
    "print(len(motifs))"
   ]
  },
  {
   "cell_type": "code",
   "execution_count": 66,
   "metadata": {},
   "outputs": [
    {
     "name": "stdout",
     "output_type": "stream",
     "text": [
      "MA0139.1\n",
      "MA0142.1\n",
      "MA0149.1\n",
      "MA0138.2\n",
      "MA0002.2\n",
      "MA0065.2\n",
      "MA0146.2\n",
      "MA0527.1\n",
      "MA0523.1\n",
      "MA0521.1\n",
      "MA0520.1\n",
      "MA0519.1\n",
      "MA0518.1\n",
      "MA0467.1\n",
      "MA0468.1\n",
      "MA0476.1\n",
      "MA0478.1\n",
      "MA0479.1\n",
      "MA0480.1\n",
      "MA0483.1\n",
      "MA0488.1\n",
      "MA0489.1\n",
      "MA0492.1\n",
      "MA0493.1\n",
      "MA0494.1\n",
      "MA0497.1\n",
      "MA0501.1\n",
      "MA0503.1\n",
      "MA0504.1\n",
      "MA0505.1\n",
      "MA0506.1\n",
      "MA0507.1\n",
      "MA0513.1\n",
      "MA0514.1\n",
      "MA0515.1\n",
      "MA0517.1\n",
      "MA0076.2\n",
      "MA0258.2\n",
      "MA0050.2\n",
      "MA0150.2\n",
      "MA0137.3\n",
      "MA0144.2\n",
      "MA0140.2\n",
      "MA0095.2\n",
      "MA0591.1\n",
      "MA0593.1\n",
      "MA0595.1\n",
      "MA0596.1\n",
      "MA0597.1\n",
      "MA0599.1\n",
      "MA0852.2\n",
      "MA0036.3\n",
      "MA1106.1\n",
      "MA0147.3\n",
      "MA0100.3\n",
      "MA0104.4\n",
      "MA1109.1\n",
      "MA0161.2\n",
      "MA0060.3\n",
      "MA1110.1\n",
      "MA1111.1\n",
      "MA0014.3\n",
      "MA1114.1\n",
      "MA1115.1\n",
      "MA1116.1\n",
      "MA1117.1\n",
      "MA1118.1\n",
      "MA1119.1\n",
      "MA0442.2\n",
      "MA1120.1\n",
      "MA1121.1\n",
      "MA1122.1\n",
      "MA0750.2\n",
      "MA0103.3\n",
      "MA1124.1\n",
      "MA1125.1\n",
      "MA1508.1\n",
      "MA1513.1\n",
      "MA1522.1\n",
      "MA1573.1\n",
      "MA1579.1\n",
      "MA1581.1\n",
      "MA1583.1\n",
      "MA1585.1\n",
      "MA1587.1\n",
      "MA1588.1\n",
      "MA1589.1\n",
      "MA1593.1\n",
      "MA1594.1\n",
      "MA1596.1\n",
      "MA1597.1\n",
      "MA1599.1\n",
      "MA1601.1\n",
      "MA1602.1\n",
      "MA1603.1\n",
      "MA1604.1\n",
      "MA1606.1\n",
      "MA1607.1\n",
      "MA1608.1\n",
      "MA1615.1\n",
      "MA1616.1\n",
      "MA1618.1\n",
      "MA1619.1\n",
      "MA1620.1\n",
      "MA1621.1\n",
      "MA1622.1\n",
      "MA1623.1\n",
      "MA1624.1\n",
      "MA1625.1\n",
      "MA1627.1\n",
      "MA1628.1\n",
      "MA1629.1\n",
      "MA1630.1\n",
      "MA0462.2\n",
      "MA0122.3\n",
      "MA1631.1\n",
      "MA1632.1\n",
      "MA1633.1\n",
      "MA1634.1\n",
      "MA1635.1\n",
      "MA1636.1\n",
      "MA1637.1\n",
      "MA1638.1\n",
      "MA1639.1\n",
      "MA1640.1\n",
      "MA1641.1\n",
      "MA1642.1\n",
      "MA1643.1\n",
      "MA1644.1\n",
      "MA1645.1\n",
      "MA1646.1\n",
      "MA1647.1\n",
      "MA1648.1\n",
      "MA1649.1\n",
      "MA1650.1\n",
      "MA1651.1\n",
      "MA1652.1\n",
      "MA1653.1\n",
      "MA1654.1\n",
      "MA1655.1\n",
      "MA1656.1\n",
      "MA1657.1\n",
      "MA1683.1\n",
      "MA0833.2\n",
      "MA0835.2\n",
      "MA0465.2\n",
      "MA0102.4\n",
      "MA0836.2\n",
      "MA0018.4\n",
      "MA1102.2\n",
      "MA0471.2\n",
      "MA0154.4\n",
      "MA0162.4\n",
      "MA0598.3\n",
      "MA0473.3\n",
      "MA0640.2\n",
      "MA0592.3\n",
      "MA0761.2\n",
      "MA0764.2\n",
      "MA0765.2\n",
      "MA0477.2\n",
      "MA0148.4\n",
      "MA0047.3\n",
      "MA1103.2\n",
      "MA0481.3\n",
      "MA0062.3\n",
      "MA0035.4\n",
      "MA0482.2\n",
      "MA1104.2\n",
      "MA1105.2\n",
      "MA0043.3\n",
      "MA0114.4\n",
      "MA0484.2\n",
      "MA0901.2\n",
      "MA0490.2\n",
      "MA0491.2\n",
      "MA0039.4\n",
      "MA1107.2\n",
      "MA0700.2\n",
      "MA0495.3\n",
      "MA0659.2\n",
      "MA0496.3\n",
      "MA0052.4\n",
      "MA0620.3\n",
      "MA1108.2\n",
      "MA0499.2\n",
      "MA0500.2\n",
      "MA0056.2\n",
      "MA0089.2\n",
      "MA0025.2\n",
      "MA0502.2\n",
      "MA0063.2\n",
      "MA1112.2\n",
      "MA0679.2\n",
      "MA0712.2\n",
      "MA1113.2\n",
      "MA0681.2\n",
      "MA0782.2\n",
      "MA0627.2\n",
      "MA0508.3\n",
      "MA0509.2\n",
      "MA0798.2\n",
      "MA0684.2\n",
      "MA0743.2\n",
      "MA0744.2\n",
      "MA0745.2\n",
      "MA0143.4\n",
      "MA0080.5\n",
      "MA0081.2\n",
      "MA0829.2\n",
      "MA0522.3\n",
      "MA0830.2\n",
      "MA0769.2\n",
      "MA0090.3\n",
      "MA0809.2\n",
      "MA0003.4\n",
      "MA0814.2\n",
      "MA1123.2\n",
      "MA0093.3\n",
      "MA0526.3\n",
      "MA0748.2\n",
      "MA0528.2\n",
      "MA0609.2\n"
     ]
    }
   ],
   "source": [
    "for motif in motifs:\n",
    "    print(motif.matrix_id)\n",
    "    pass # do something with the motif"
   ]
  },
  {
   "cell_type": "code",
   "execution_count": null,
   "metadata": {},
   "outputs": [],
   "source": []
  },
  {
   "cell_type": "code",
   "execution_count": null,
   "metadata": {},
   "outputs": [],
   "source": []
  }
 ],
 "metadata": {
  "kernelspec": {
   "display_name": "Python 3",
   "language": "python",
   "name": "python3"
  },
  "language_info": {
   "codemirror_mode": {
    "name": "ipython",
    "version": 3
   },
   "file_extension": ".py",
   "mimetype": "text/x-python",
   "name": "python",
   "nbconvert_exporter": "python",
   "pygments_lexer": "ipython3",
   "version": "3.8.6"
  }
 },
 "nbformat": 4,
 "nbformat_minor": 2
}
