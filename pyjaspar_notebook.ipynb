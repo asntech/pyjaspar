{
 "cells": [
  {
   "cell_type": "markdown",
   "metadata": {},
   "source": [
    "# pyJASPAR Notebook"
   ]
  },
  {
   "cell_type": "markdown",
   "metadata": {},
   "source": [
    "Once you have installed pyJASPAR, you can load the module and connect to the latest release of JASPAR."
   ]
  },
  {
   "cell_type": "code",
   "execution_count": 22,
   "metadata": {},
   "outputs": [],
   "source": [
    "from pyjaspar import jaspardb"
   ]
  },
  {
   "cell_type": "markdown",
   "metadata": {},
   "source": [
    "Connect to the version of JASPAR you're interested in. This will return jaspardb class object.\n",
    "For example here we're getting the JASPAR2020."
   ]
  },
  {
   "cell_type": "code",
   "execution_count": 23,
   "metadata": {},
   "outputs": [],
   "source": [
    "jdb_obj = jaspardb(release='JASPAR2024')"
   ]
  },
  {
   "cell_type": "markdown",
   "metadata": {},
   "source": [
    "You can also check JASPAR version you are connected to using:"
   ]
  },
  {
   "cell_type": "code",
   "execution_count": 24,
   "metadata": {
    "scrolled": true
   },
   "outputs": [
    {
     "name": "stdout",
     "output_type": "stream",
     "text": [
      "JASPAR2024\n"
     ]
    }
   ],
   "source": [
    "print(jdb_obj.release)"
   ]
  },
  {
   "cell_type": "markdown",
   "metadata": {},
   "source": [
    "By default it is set to latest release/version of JASPAR database. For example."
   ]
  },
  {
   "cell_type": "code",
   "execution_count": 25,
   "metadata": {},
   "outputs": [
    {
     "name": "stdout",
     "output_type": "stream",
     "text": [
      "JASPAR2024\n"
     ]
    }
   ],
   "source": [
    "jdb_obj = jaspardb()\n",
    "print(jdb_obj.release)"
   ]
  },
  {
   "cell_type": "markdown",
   "metadata": {},
   "source": [
    "### Get available releases\n",
    "You can find the available releases/version of JASPAR using."
   ]
  },
  {
   "cell_type": "code",
   "execution_count": 26,
   "metadata": {},
   "outputs": [
    {
     "name": "stdout",
     "output_type": "stream",
     "text": [
      "['JASPAR2024', 'JASPAR2022', 'JASPAR2020', 'JASPAR2018', 'JASPAR2016', 'JASPAR2014']\n"
     ]
    }
   ],
   "source": [
    "print(jdb_obj.get_releases())"
   ]
  },
  {
   "cell_type": "markdown",
   "metadata": {},
   "source": [
    "### Get motif by using JASPAR ID\n",
    "If you want to get the motif details for a specific TF using the JASPAR ID. If you skip the version of motif, it will return the latest version. "
   ]
  },
  {
   "cell_type": "code",
   "execution_count": 27,
   "metadata": {},
   "outputs": [],
   "source": [
    "motif = jdb_obj.fetch_motif_by_id('MA0006.1')"
   ]
  },
  {
   "cell_type": "markdown",
   "metadata": {},
   "source": [
    "Printing the motif will all the associated meta-information stored in the JASPAR database cluding the matric counts."
   ]
  },
  {
   "cell_type": "code",
   "execution_count": 28,
   "metadata": {},
   "outputs": [
    {
     "name": "stdout",
     "output_type": "stream",
     "text": [
      "TF name\tAhr::Arnt\n",
      "Matrix ID\tMA0006.1\n",
      "Collection\tCORE\n",
      "TF class\t['Basic helix-loop-helix factors (bHLH)', 'Basic helix-loop-helix factors (bHLH)']\n",
      "TF family\t['PAS domain factors', 'PAS domain factors']\n",
      "Species\t10090\n",
      "Taxonomic group\tvertebrates\n",
      "Accession\t['P30561', 'P53762']\n",
      "Data type used\tSELEX\n",
      "Medline\t7592839\n",
      "Comments\tdimer\n",
      "Matrix:\n",
      "        0      1      2      3      4      5\n",
      "A:   3.00   0.00   0.00   0.00   0.00   0.00\n",
      "C:   8.00   0.00  23.00   0.00   0.00   0.00\n",
      "G:   2.00  23.00   0.00  23.00   0.00  24.00\n",
      "T:  11.00   1.00   1.00   1.00  24.00   0.00\n",
      "\n",
      "\n",
      "\n"
     ]
    }
   ],
   "source": [
    "print(motif)"
   ]
  },
  {
   "cell_type": "markdown",
   "metadata": {},
   "source": [
    "Get the count matrix using `.counts`"
   ]
  },
  {
   "cell_type": "code",
   "execution_count": 29,
   "metadata": {
    "scrolled": true
   },
   "outputs": [
    {
     "name": "stdout",
     "output_type": "stream",
     "text": [
      "[3.0, 0.0, 0.0, 0.0, 0.0, 0.0]\n"
     ]
    }
   ],
   "source": [
    "print(motif.counts['A'])"
   ]
  },
  {
   "cell_type": "markdown",
   "metadata": {},
   "source": [
    "### Search motifs by TF name\n",
    "You can use the `fetch_motifs_by_name` function to find motifs by TF name. This method returns a list of motifs for the same TF name across taxonomic group. For example, below search will return two CTCF motifs one in vertebrates and another in plants taxon."
   ]
  },
  {
   "cell_type": "code",
   "execution_count": 12,
   "metadata": {},
   "outputs": [],
   "source": [
    "motifs = jdb_obj.fetch_motifs_by_name(\"CTCF\")"
   ]
  },
  {
   "cell_type": "code",
   "execution_count": 13,
   "metadata": {},
   "outputs": [
    {
     "name": "stdout",
     "output_type": "stream",
     "text": [
      "4\n"
     ]
    }
   ],
   "source": [
    "print(len(motifs))"
   ]
  },
  {
   "cell_type": "code",
   "execution_count": 14,
   "metadata": {},
   "outputs": [
    {
     "name": "stdout",
     "output_type": "stream",
     "text": [
      "TF name\tCTCF\n",
      "Matrix ID\tMA0531.2\n",
      "Collection\tCORE\n",
      "TF class\t['C2H2 zinc finger factors']\n",
      "TF family\t['More than 3 adjacent zinc fingers']\n",
      "Species\t7227\n",
      "Taxonomic group\tinsects\n",
      "Accession\t['Q9VS55']\n",
      "Data type used\tChIP-chip\n",
      "Medline\t17616980\n",
      "Matrix:\n",
      "        0      1      2      3      4      5      6      7      8      9\n",
      "A: 257.00 1534.00 202.00 987.00   2.00   0.00   2.00 124.00   1.00  79.00\n",
      "C: 714.00   1.00   0.00   0.00   4.00   0.00   0.00 1645.00   0.00 1514.00\n",
      "G:  87.00 192.00 1700.00 912.00 311.00 1902.00 1652.00   3.00 1807.00   8.00\n",
      "T: 844.00 175.00   0.00   3.00 1585.00   0.00 248.00 130.00  94.00 301.00\n",
      "\n",
      "\n",
      "\n",
      "TF name\tCTCF\n",
      "Matrix ID\tMA0139.2\n",
      "Collection\tCORE\n",
      "TF class\t['C2H2 zinc finger factors']\n",
      "TF family\t['More than 3 adjacent zinc fingers']\n",
      "Species\t9606\n",
      "Taxonomic group\tvertebrates\n",
      "Accession\t['P49711']\n",
      "Data type used\tChIP-seq\n",
      "Medline\t17512414\n",
      "Comments\tTF has several motif variants.\n",
      "Matrix:\n",
      "        0      1      2      3      4      5      6      7      8      9     10     11     12     13     14\n",
      "A: 281.00  56.00   8.00 744.00  40.00 107.00 851.00   5.00 333.00  54.00  12.00  56.00 104.00 372.00  82.00\n",
      "C:  49.00 800.00 903.00  13.00 528.00 433.00  11.00   0.00   3.00  12.00   0.00   8.00 733.00  13.00 482.00\n",
      "G: 449.00  21.00   0.00  65.00 334.00  48.00  32.00 903.00 566.00 504.00 890.00 775.00   5.00 507.00 307.00\n",
      "T: 134.00  36.00   2.00  91.00  11.00 324.00  18.00   3.00   9.00 341.00   8.00  71.00  67.00  17.00  37.00\n",
      "\n",
      "\n",
      "\n",
      "TF name\tCTCF\n",
      "Matrix ID\tMA1929.2\n",
      "Collection\tCORE\n",
      "TF class\t['C2H2 zinc finger factors']\n",
      "TF family\t['More than 3 adjacent zinc fingers']\n",
      "Species\t9606\n",
      "Taxonomic group\tvertebrates\n",
      "Accession\t['P49711']\n",
      "Data type used\tChIP-seq\n",
      "Medline\t34326481\n",
      "Comments\tTF has several motif variants. Extended motif with zinc finger 8 (5bp)\n",
      "Matrix:\n",
      "        0      1      2      3      4      5      6      7      8      9     10     11     12     13     14     15     16     17     18     19     20     21     22     23     24     25     26     27     28     29     30\n",
      "A: 905.00 914.00 163.00 287.00 4559.00 1658.00 592.00 1133.00 720.00 775.00 2055.00 1473.00 1639.00 1959.00 1569.00 827.00 1483.00 1649.00 730.00 224.00 4283.00 433.00 1251.00 5212.00 210.00 2494.00 495.00 232.00 347.00 1034.00 2737.00\n",
      "C: 3839.00 405.00 132.00 5468.00 627.00 1155.00 986.00 777.00 3973.00 3913.00 1851.00 1915.00 2308.00 1412.00 1431.00 2470.00 1392.00 791.00 5068.00 6321.00 357.00 3551.00 2748.00 244.00 114.00  86.00 254.00  76.00 381.00 4715.00 466.00\n",
      "G: 1235.00 319.00 6252.00 241.00 390.00 3322.00 571.00 1773.00 764.00 544.00 1141.00 2079.00 1441.00 1429.00 2192.00 942.00 2269.00 3152.00 518.00  79.00 935.00 2483.00 618.00 787.00 6387.00 4085.00 3487.00 6326.00 5406.00 246.00 3084.00\n",
      "T: 787.00 5128.00 219.00 770.00 1190.00 631.00 4617.00 3083.00 1309.00 1534.00 1719.00 1299.00 1378.00 1966.00 1574.00 2527.00 1622.00 1174.00 450.00 142.00 1191.00 299.00 2149.00 523.00  55.00 101.00 2530.00 132.00 632.00 771.00 479.00\n",
      "\n",
      "\n",
      "\n",
      "TF name\tCTCF\n",
      "Matrix ID\tMA1930.2\n",
      "Collection\tCORE\n",
      "TF class\t['C2H2 zinc finger factors']\n",
      "TF family\t['More than 3 adjacent zinc fingers']\n",
      "Species\t9606\n",
      "Taxonomic group\tvertebrates\n",
      "Accession\t['P49711']\n",
      "Data type used\tChIP-seq\n",
      "Medline\t34326481\n",
      "Comments\tTF has several motif variants. Extended motif with zinc finger 8 (6bp)\n",
      "Matrix:\n",
      "        0      1      2      3      4      5      6      7      8      9     10     11     12     13     14     15     16     17     18     19     20     21     22     23     24     25     26     27     28     29     30     31     32\n",
      "A: 293.00 242.00  41.00  86.00 1986.00 445.00 158.00 346.00 453.00 497.00 714.00 536.00 467.00 664.00 563.00 593.00 452.00 560.00 604.00 178.00  38.00 1906.00 127.00 348.00 2179.00  32.00 1140.00 169.00  62.00 119.00 335.00 1021.00 279.00\n",
      "C: 1497.00 107.00  35.00 2129.00 127.00 366.00 278.00 324.00 1333.00 1129.00 794.00 855.00 1138.00 604.00 730.00 902.00 781.00 458.00 300.00 2074.00 2515.00  97.00 1409.00 1016.00  54.00   9.00  14.00  71.00  14.00 138.00 1833.00 164.00 1307.00\n",
      "G: 400.00 144.00 2476.00  25.00 155.00 1456.00 179.00 892.00 328.00 419.00 623.00 770.00 561.00 376.00 541.00 494.00 393.00 1041.00 1242.00 155.00   9.00 275.00 961.00 175.00 212.00 2527.00 1399.00 1208.00 2472.00 2117.00  86.00 1161.00 740.00\n",
      "T: 386.00 2083.00  24.00 336.00 308.00 309.00 1961.00 1014.00 462.00 531.00 445.00 415.00 410.00 932.00 742.00 587.00 950.00 517.00 430.00 169.00  14.00 298.00  79.00 1037.00 131.00   8.00  23.00 1128.00  28.00 202.00 322.00 230.00 250.00\n",
      "\n",
      "\n",
      "\n"
     ]
    }
   ],
   "source": [
    "print(motifs)"
   ]
  },
  {
   "cell_type": "markdown",
   "metadata": {},
   "source": [
    "### Search motifs with \n",
    "A more commonly used function is `fetch_motifs` helps you to get motifs which match a specified set of criteria.\n",
    "You can query the database based on the available meta-information in the database.\n",
    "\n",
    "For example, here we are gettting the widely used CORE collection for vertebrates. It returns a list of non-redundent motifs. "
   ]
  },
  {
   "cell_type": "code",
   "execution_count": 15,
   "metadata": {},
   "outputs": [],
   "source": [
    "motifs = jdb_obj.fetch_motifs(\n",
    "collection = ['CORE'],\n",
    "tax_group = ['Vertebrates'],\n",
    "all_versions = False,\n",
    ")"
   ]
  },
  {
   "cell_type": "code",
   "execution_count": 16,
   "metadata": {},
   "outputs": [
    {
     "name": "stdout",
     "output_type": "stream",
     "text": [
      "879\n"
     ]
    }
   ],
   "source": [
    "print(len(motifs))"
   ]
  },
  {
   "cell_type": "code",
   "execution_count": 25,
   "metadata": {},
   "outputs": [],
   "source": [
    "for motif in motifs:\n",
    "    #print(motif.matrix_id)\n",
    "    pass # do something with the motif"
   ]
  },
  {
   "cell_type": "markdown",
   "metadata": {},
   "source": [
    "Get the number of non-redundent motifs from CORE collection per-release."
   ]
  },
  {
   "cell_type": "code",
   "execution_count": 17,
   "metadata": {},
   "outputs": [
    {
     "name": "stdout",
     "output_type": "stream",
     "text": [
      "JASPAR2024\n",
      "2346\n",
      "JASPAR2022\n",
      "1956\n",
      "JASPAR2020\n",
      "1646\n",
      "JASPAR2018\n",
      "1404\n",
      "JASPAR2016\n",
      "1082\n",
      "JASPAR2014\n",
      "593\n"
     ]
    }
   ],
   "source": [
    "for release in jdb_obj.get_releases():\n",
    "    print(release)\n",
    "    jdb_obj = jaspardb(release=release)\n",
    "    motifs = jdb_obj.fetch_motifs(\n",
    "        collection = [\"CORE\"],\n",
    "        all_versions = False,\n",
    "        #species = '10090' # this is the mouse tax ID\n",
    "    )\n",
    "    print(len(motifs))"
   ]
  },
  {
   "cell_type": "code",
   "execution_count": null,
   "metadata": {},
   "outputs": [],
   "source": []
  }
 ],
 "metadata": {
  "kernelspec": {
   "display_name": "Python 3",
   "language": "python",
   "name": "python3"
  },
  "language_info": {
   "codemirror_mode": {
    "name": "ipython",
    "version": 3
   },
   "file_extension": ".py",
   "mimetype": "text/x-python",
   "name": "python",
   "nbconvert_exporter": "python",
   "pygments_lexer": "ipython3",
   "version": "3.8.6"
  }
 },
 "nbformat": 4,
 "nbformat_minor": 2
}
